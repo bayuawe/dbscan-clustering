{
  "nbformat": 4,
  "nbformat_minor": 0,
  "metadata": {
    "colab": {
      "provenance": []
    },
    "kernelspec": {
      "name": "python3",
      "display_name": "Python 3"
    },
    "language_info": {
      "name": "python"
    }
  },
  "cells": [
    {
      "cell_type": "markdown",
      "source": [
        "# **Clustering Data Menggunakan DBSCAN dan Evaluasi dengan Silhouette Score, Davies-Bouldin Index, dan Elbow Method**\n",
        "\n",
        "## **1. Import Library**\n",
        "Langkah pertama adalah mengimpor library yang dibutuhkan:\n",
        "- `pandas`: Untuk manipulasi data.\n",
        "- `DBSCAN`: Algoritma clustering dari `sklearn`.\n",
        "- `StandardScaler` dan `OneHotEncoder`: Untuk standarisasi dan encoding fitur.\n",
        "- `silhouette_score` dan `davies_bouldin_score`: Untuk evaluasi kualitas cluster.\n",
        "- `KMeans`: Untuk implementasi Elbow Method.\n",
        "- `matplotlib.pyplot`: Untuk visualisasi.\n",
        "\n"
      ],
      "metadata": {
        "id": "GySFQc6quDwt"
      }
    },
    {
      "cell_type": "markdown",
      "source": [
        "Import Library"
      ],
      "metadata": {
        "id": "VNRup98ntnbm"
      }
    },
    {
      "cell_type": "code",
      "execution_count": 72,
      "metadata": {
        "id": "G44hMXH1sMob"
      },
      "outputs": [],
      "source": [
        "import pandas as pd\n",
        "from sklearn.cluster import DBSCAN\n",
        "from sklearn.preprocessing import StandardScaler, OneHotEncoder\n",
        "from sklearn.metrics import silhouette_score, davies_bouldin_score\n",
        "from sklearn.cluster import KMeans\n",
        "import matplotlib.pyplot as plt"
      ]
    },
    {
      "cell_type": "markdown",
      "source": [
        "## **2. Memuat Dataset**\n",
        "Langkah pertama dalam analisis data adalah memuat dataset. Dalam hal ini, dataset diimpor dari file CSV yang terletak di path `/content/sample_data/dataset.csv`."
      ],
      "metadata": {
        "id": "HC9N5ZNqtkyq"
      }
    },
    {
      "cell_type": "code",
      "source": [
        "data = pd.read_csv(\"/content/sample_data/dataset.csv\")"
      ],
      "metadata": {
        "id": "F02645UWtj1f"
      },
      "execution_count": 73,
      "outputs": []
    },
    {
      "cell_type": "markdown",
      "source": [
        "## **Menampilkan 5 baris pertama dataset**"
      ],
      "metadata": {
        "id": "ZYdNOCpCGF4O"
      }
    },
    {
      "cell_type": "code",
      "source": [
        "print(data.head())"
      ],
      "metadata": {
        "colab": {
          "base_uri": "https://localhost:8080/"
        },
        "id": "a_p0NUkXzlmJ",
        "outputId": "834d6405-181f-4198-9ab1-481f74a8f7e4"
      },
      "execution_count": 74,
      "outputs": [
        {
          "output_type": "stream",
          "name": "stdout",
          "text": [
            "             Timestamp       Nama Lengkap         NIM Jenis Kelamin    Usia  \\\n",
            "0  30/12/2024 12:25:41       Bayu Maulana   240401068       Laki-Laki    19   \n",
            "1  30/12/2024 12:26:02    Fajar Fadillah   2400401109       Laki-Laki    18   \n",
            "2  30/12/2024 12:26:21  Joni Eka Saputra    220401005       Laki-Laki    21   \n",
            "3  30/12/2024 12:27:03     Nabil munadhil   240401025       Laki-Laki    18   \n",
            "4  30/12/2024 12:27:49     EVI EKA AZHARI   220401247       Perempuan    21   \n",
            "\n",
            "  Asal Sekolah             Nama Sekolah         Alamat Sekolah  \\\n",
            "0          SMK              SMK HASANAH           jl cempedak    \n",
            "1          SMK        SMKN 2 PEKANBARU            Jl.pattimura   \n",
            "2          SMA       SMAN 11 Pekanbaru               jl.segar    \n",
            "3           MA           MAN 1 KUANSING  Kab. kuantan singingi   \n",
            "4          SMA  SMA Negeri 11 Pekanbaru   Jl. Segar, Hangtuah.   \n",
            "\n",
            "       Jurusan Sekolah               Alamat Domisili    Kota tempat tinggal  \\\n",
            "0                    RPL                 Jl Bukit Pasir          Pekanbaru    \n",
            "1  Elektronika industri                  Jl Tengku Bey           Pekanbaru    \n",
            "2                    IPA                jl bakau ujung           Pekanbaru    \n",
            "3                    IPS                jl. kubang raya       taluk kuantan   \n",
            "4                    IPA  Jl. Bata Merah, Bencah Lesung           Pekanbaru   \n",
            "\n",
            "                Jalur Pilihan Alasan Memilih Teknik Informatika UMRI  \\\n",
            "0             Reguler (J-Reg)                             Teknologi    \n",
            "1         Muhammadiyah (J-Mu)         Ingin mendalami ilmu komputer    \n",
            "2             Reguler (J-Reg)                karna pengennya di situ   \n",
            "3         Muhammadiyah (J-Mu)           ingin menguasai di bidang IT   \n",
            "4  Jalur Bakat dan Organisasi             Lowongan pekerjaannya luas   \n",
            "\n",
            "  Sumber Informasi Tentang Teknik Informatika UMRI  \\\n",
            "0                                            Teman   \n",
            "1                                            Teman   \n",
            "2                                 Tim Promosi UMRI   \n",
            "3                                          Website   \n",
            "4                              Orang Tua / Kerabat   \n",
            "\n",
            "  Kejuruan Teknik Informatika yang diminati  \\\n",
            "0                         Software Engineer   \n",
            "1                         Software Engineer   \n",
            "2                         Software Engineer   \n",
            "3                         Software Engineer   \n",
            "4                   Artificial Intelligence   \n",
            "\n",
            "      Platform Media Sosial yang sering digunakan  \\\n",
            "0                                       Instagram   \n",
            "1                     Tiktok, Instagram, Whatsapp   \n",
            "2  Tiktok, Facebook, Instagram, Youtube, Whatsapp   \n",
            "3                                       Instagram   \n",
            "4            Tiktok, Instagram, Youtube, Whatsapp   \n",
            "\n",
            "  Saran dan Masukan tentang Promosi Calon Mahasiswa baru Program Studi Teknik Informatika  \n",
            "0                                       jangan botak                                       \n",
            "1                                 Kuliah yang pintar                                       \n",
            "2                                 lebih kreatif aja                                        \n",
            "3  lebih kreatif lagi biar peminatnya semakin banyak                                       \n",
            "4  Langsung datang ke sekolah-sekolah untuk promo...                                       \n"
          ]
        }
      ]
    },
    {
      "cell_type": "markdown",
      "source": [
        "---\n",
        "\n",
        "## **3. Seleksi Fitur**\n",
        "Tahap ini bertujuan untuk memilih fitur yang relevan dari dataset yang akan digunakan dalam proses clustering. Fitur yang dipilih berdasarkan kebutuhan analisis, misalnya:\n",
        "\n",
        "1. **'Usia'**: Sebagai fitur numerik utama.\n",
        "2. **'Asal Sekolah'**: Sebagai fitur tambahan yang relevan, dapat berupa fitur kategorikal yang sudah diencoding atau langsung numerik.\n",
        "\n",
        "### Penjelasan Kode:\n",
        "- **Seleksi Fitur**: Memilih kolom 'Usia' dan fitur yang relevan lainnya, seperti 'Asal Sekolah'.\n",
        "- **Hasil Akhir**: Data dengan fitur terpilih disimpan dalam variabel `data_selected`.\n"
      ],
      "metadata": {
        "id": "nfzCxxM0GkId"
      }
    },
    {
      "cell_type": "code",
      "source": [
        "# Jika 'Alamat' sudah numerik, langsung seleksi fitur\n",
        "selected_features = ['Usia'] + [col for col in data.columns if 'Asal Sekolah' in col]\n",
        "data_selected = data[selected_features]\n",
        "\n",
        "print(data_selected.head())"
      ],
      "metadata": {
        "colab": {
          "base_uri": "https://localhost:8080/"
        },
        "id": "5GfHJOAM0S_J",
        "outputId": "14057ac5-8e68-48fa-c02b-70f4dd665c80"
      },
      "execution_count": 75,
      "outputs": [
        {
          "output_type": "stream",
          "name": "stdout",
          "text": [
            "   Usia Asal Sekolah\n",
            "0    19          SMK\n",
            "1    18          SMK\n",
            "2    21          SMA\n",
            "3    18           MA\n",
            "4    21          SMA\n"
          ]
        }
      ]
    },
    {
      "cell_type": "markdown",
      "source": [
        "---\n",
        "\n",
        "## **4. Transformasi Data dan Standardisasi**\n",
        "\n",
        "Tahap ini bertujuan untuk mempersiapkan data agar dapat digunakan dalam model clustering. Proses ini mencakup:\n",
        "\n",
        "1. **Penanganan Missing Value**:\n",
        "   - Mengatasi nilai kosong (missing value) pada dataset.\n",
        "   - Nilai kosong diisi dengan rata-rata (`mean`) untuk fitur numerik.\n",
        "\n",
        "2. **Standardisasi Fitur Numerik**:\n",
        "   - Menstandarisasi fitur numerik menggunakan `StandardScaler` dari `sklearn` untuk memastikan semua fitur memiliki skala yang sama.\n",
        "   - Hanya fitur numerik yang diikutsertakan dalam proses ini.\n",
        "\n",
        "3. **Encoding Fitur Kategorikal**:\n",
        "   - Melakukan One-Hot Encoding pada fitur kategorikal untuk mengubahnya menjadi representasi numerik.\n",
        "\n",
        "4. **Kombinasi Data**:\n",
        "   - Menggabungkan kembali fitur numerik yang telah distandarisasi dengan fitur kategorikal yang telah diencoding.\n",
        "\n",
        "---\n",
        "\n",
        "### Penjelasan Kode:\n",
        "- **Handling Missing Values**: Looping setiap kolom, memeriksa apakah ada nilai kosong, dan mengisinya dengan rata-rata.\n",
        "- **Standardisasi**: Menggunakan `StandardScaler` untuk mentransformasi data numerik menjadi standar dengan mean 0 dan standard deviation 1.\n",
        "- **One-Hot Encoding**: Mengubah fitur kategorikal menjadi fitur numerik biner.\n",
        "- **Penggabungan Data**: Menggabungkan data numerik yang distandarisasi dengan fitur kategorikal yang telah diencoding menggunakan `pd.concat()`."
      ],
      "metadata": {
        "id": "O9ciW4iVH-zw"
      }
    },
    {
      "cell_type": "code",
      "source": [
        "# Mengatasi missing value (jika ada)\n",
        "# Contoh: Mengisi missing value dengan mean\n",
        "for col in data_selected.columns:\n",
        "    if data_selected[col].isnull().any():\n",
        "        data_selected[col].fillna(data_selected[col].mean(), inplace=True)\n",
        "\n",
        "# Standardisasi fitur numerik\n",
        "scaler = StandardScaler()\n",
        "\n",
        "# --- Selecting only the numerical feature for scaling ---\n",
        "numerical_features = ['Usia']  # Assuming 'Usia' is the only numerical feature\n",
        "data_scaled = scaler.fit_transform(data_selected[numerical_features])\n",
        "\n",
        "# --- Converting the scaled numerical features back to DataFrame ---\n",
        "data_scaled = pd.DataFrame(data_scaled, columns=numerical_features, index=data_selected.index)\n",
        "\n",
        "# --- Concatenating the scaled numerical features with the original categorical features ---\n",
        "# --- Applying one-hot encoding to the categorical features before concatenating ---\n",
        "categorical_features = [col for col in data_selected.columns if col not in numerical_features]\n",
        "encoded_categorical = pd.get_dummies(data_selected[categorical_features], drop_first=True)  # One-hot encoding\n",
        "\n",
        "data_scaled = pd.concat([data_scaled, encoded_categorical], axis=1)\n",
        "\n",
        "# Menampilkan 5 baris pertama hasil transformasi\n",
        "print(data_scaled.head())"
      ],
      "metadata": {
        "colab": {
          "base_uri": "https://localhost:8080/"
        },
        "id": "N_MJlvUG0ed8",
        "outputId": "beba5d00-03d0-4825-cf98-2db798d1a2f1"
      },
      "execution_count": 76,
      "outputs": [
        {
          "output_type": "stream",
          "name": "stdout",
          "text": [
            "       Usia  Asal Sekolah_Pondok Modern  Asal Sekolah_Pondok pesantren   \\\n",
            "0 -0.627487                       False                           False   \n",
            "1 -1.430086                       False                           False   \n",
            "2  0.977712                       False                           False   \n",
            "3 -1.430086                       False                           False   \n",
            "4  0.977712                       False                           False   \n",
            "\n",
            "   Asal Sekolah_Pondok pesantren Islam   Asal Sekolah_SMA  Asal Sekolah_SMK  \n",
            "0                                 False             False              True  \n",
            "1                                 False             False              True  \n",
            "2                                 False              True             False  \n",
            "3                                 False             False             False  \n",
            "4                                 False              True             False  \n"
          ]
        }
      ]
    },
    {
      "cell_type": "markdown",
      "source": [
        "---\n",
        "\n",
        "## **5. Penerapan DBSCAN Clustering**\n",
        "\n",
        "Pada tahap ini, algoritma DBSCAN (Density-Based Spatial Clustering of Applications with Noise) diterapkan untuk menemukan cluster berdasarkan kepadatan data. Proses ini juga mencakup evaluasi kualitas clustering menggunakan metrik Silhouette Score.\n",
        "\n",
        "### **Penjelasan Proses**\n",
        "1. **Eksperimen Parameter**:\n",
        "   - DBSCAN memerlukan dua parameter utama: `eps` (radius tetangga) dan `min_samples` (jumlah minimal titik dalam radius `eps` untuk membentuk sebuah cluster).\n",
        "   - Beberapa nilai kombinasi `eps` dan `min_samples` dicoba untuk menemukan kombinasi terbaik.\n",
        "\n",
        "2. **Evaluasi Kualitas Cluster**:\n",
        "   - Menggunakan **Silhouette Score** untuk menilai kualitas cluster:\n",
        "     - Nilai berkisar dari -1 (kualitas buruk) hingga +1 (kualitas sangat baik).\n",
        "     - Hanya kombinasi dengan lebih dari satu cluster yang dievaluasi.\n",
        "\n",
        "3. **Pemilihan Parameter Terbaik**:\n",
        "   - Kombinasi `eps` dan `min_samples` dengan Silhouette Score tertinggi dipilih.\n",
        "\n",
        "4. **Clustering Akhir**:\n",
        "   - DBSCAN dijalankan kembali dengan parameter terbaik, dan hasil clustering ditambahkan sebagai kolom baru pada dataset asli.\n"
      ],
      "metadata": {
        "id": "9aJcBx1NInEg"
      }
    },
    {
      "cell_type": "code",
      "source": [
        "# Mencoba beberapa nilai eps dan min_samples\n",
        "eps_values = [0.5, 1, 1.5, 2]  # Contoh nilai eps\n",
        "min_samples_values = [5, 10, 15]  # Contoh nilai min_samples\n",
        "\n",
        "best_eps = None\n",
        "best_min_samples = None\n",
        "best_silhouette_score = -1\n",
        "best_db_index = float('inf')  # Davies-Bouldin Index, lebih kecil lebih baik\n",
        "\n",
        "silhouette_scores = []\n",
        "db_indexes = []\n",
        "\n",
        "for eps in eps_values:\n",
        "    for min_samples in min_samples_values:\n",
        "        dbscan = DBSCAN(eps=eps, min_samples=min_samples)\n",
        "        clusters = dbscan.fit_predict(data_scaled)\n",
        "\n",
        "        # Pastikan ada lebih dari satu cluster\n",
        "        if len(set(clusters)) > 1:\n",
        "            # Evaluasi menggunakan Silhouette Score\n",
        "            silhouette_avg = silhouette_score(data_scaled, clusters)\n",
        "            silhouette_scores.append((eps, min_samples, silhouette_avg))\n",
        "\n",
        "            # Evaluasi menggunakan Davies-Bouldin Index\n",
        "            db_index = davies_bouldin_score(data_scaled, clusters)\n",
        "            db_indexes.append((eps, min_samples, db_index))\n",
        "\n",
        "            print(f\"For eps={eps}, min_samples={min_samples}, \"\n",
        "                  f\"Silhouette Score={silhouette_avg:.4f}, Davies-Bouldin Index={db_index:.4f}\")\n",
        "\n",
        "            # Mencari kombinasi terbaik\n",
        "            if silhouette_avg > best_silhouette_score or (silhouette_avg == best_silhouette_score and db_index < best_db_index):\n",
        "                best_silhouette_score = silhouette_avg\n",
        "                best_db_index = db_index\n",
        "                best_eps = eps\n",
        "                best_min_samples = min_samples\n",
        "\n",
        "# Melakukan clustering dengan parameter terbaik\n",
        "best_dbscan = DBSCAN(eps=best_eps, min_samples=best_min_samples)\n",
        "best_clusters = best_dbscan.fit_predict(data_scaled)\n",
        "\n",
        "# Menampilkan hasil terbaik\n",
        "print(f\"\\nBest eps: {best_eps}\")\n",
        "print(f\"Best min_samples: {best_min_samples}\")\n",
        "print(f\"Best Silhouette Score: {best_silhouette_score}\")\n",
        "print(f\"Best Davies-Bouldin Index: {best_db_index}\")\n",
        "\n",
        "# Menambahkan kolom cluster ke dataframe asli\n",
        "data['Cluster'] = best_clusters\n",
        "\n",
        "# Elbow Method (Visualisasi Silhouette Score)\n",
        "plt.figure(figsize=(10, 6))\n",
        "scores = [score for _, _, score in silhouette_scores]\n",
        "plt.plot(range(1, len(scores) + 1), scores, marker='o', linestyle='--', label='Silhouette Score')\n",
        "plt.title('Elbow Method for Silhouette Score')\n",
        "plt.xlabel('Combination Index')\n",
        "plt.ylabel('Silhouette Score')\n",
        "plt.legend()\n",
        "plt.grid()\n",
        "plt.show()\n",
        "\n",
        "# Elbow Method (Visualisasi Davies-Bouldin Index)\n",
        "plt.figure(figsize=(10, 6))\n",
        "db_vals = [val for _, _, val in db_indexes]\n",
        "plt.plot(range(1, len(db_vals) + 1), db_vals, marker='o', linestyle='--', label='Davies-Bouldin Index')\n",
        "plt.title('Elbow Method for Davies-Bouldin Index')\n",
        "plt.xlabel('Combination Index')\n",
        "plt.ylabel('Davies-Bouldin Index')\n",
        "plt.legend()\n",
        "plt.grid()\n",
        "plt.show()\n"
      ],
      "metadata": {
        "colab": {
          "base_uri": "https://localhost:8080/",
          "height": 1000
        },
        "id": "RnuDt_wF0x1x",
        "outputId": "4bf42f5c-9a8a-40a3-a93c-08d211e40efb"
      },
      "execution_count": 78,
      "outputs": [
        {
          "output_type": "stream",
          "name": "stdout",
          "text": [
            "For eps=0.5, min_samples=5, Silhouette Score=0.6888, Davies-Bouldin Index=1.3884\n",
            "For eps=0.5, min_samples=10, Silhouette Score=0.4500, Davies-Bouldin Index=1.7858\n",
            "For eps=0.5, min_samples=15, Silhouette Score=0.1653, Davies-Bouldin Index=1.3568\n",
            "For eps=1, min_samples=5, Silhouette Score=0.2977, Davies-Bouldin Index=0.5270\n",
            "For eps=1, min_samples=10, Silhouette Score=0.2977, Davies-Bouldin Index=0.5270\n",
            "For eps=1, min_samples=15, Silhouette Score=0.2977, Davies-Bouldin Index=0.5270\n",
            "\n",
            "Best eps: 0.5\n",
            "Best min_samples: 5\n",
            "Best Silhouette Score: 0.6888213950760451\n",
            "Best Davies-Bouldin Index: 1.3884183942534654\n"
          ]
        },
        {
          "output_type": "display_data",
          "data": {
            "text/plain": [
              "<Figure size 1000x600 with 1 Axes>"
            ],
            "image/png": "[encoded data removed]"
          },
          "metadata": {}
        },
        {
          "output_type": "display_data",
          "data": {
            "text/plain": [
              "<Figure size 1000x600 with 1 Axes>"
            ],
            "image/png": "[encoded data removed]"
          },
          "metadata": {}
        }
      ]
    },
    {
      "cell_type": "markdown",
      "source": [
        "---\n",
        "\n",
        "## **6. Visualisasi dan Analisis Hasil Clustering**\n",
        "Deskripsi\n",
        "Pada langkah ini, dilakukan visualisasi hasil clustering jika data yang digunakan hanya memiliki dua fitur numerik. Jika lebih dari dua fitur, visualisasi scatter plot tidak didukung. Selain itu, dilakukan analisis terhadap jumlah data poin dalam setiap cluster, termasuk pendeteksian outlier."
      ],
      "metadata": {
        "id": "kFFfO7DQKR9_"
      }
    },
    {
      "cell_type": "code",
      "source": [
        "# Pastikan data_scaled adalah DataFrame dengan kolom yang sesuai\n",
        "if len(data_scaled.columns) == 2:  # Jika hanya ada 2 fitur numerik\n",
        "    plt.figure(figsize=(8, 6))\n",
        "    plt.scatter(\n",
        "        data_scaled.iloc[:, 0],  # Kolom pertama (Fitur 1)\n",
        "        data_scaled.iloc[:, 1],  # Kolom kedua (Fitur 2)\n",
        "        c=best_clusters,         # Warna berdasarkan hasil clustering\n",
        "        cmap='viridis',\n",
        "        s=50,                    # Ukuran marker\n",
        "        alpha=0.8                # Transparansi\n",
        "    )\n",
        "    plt.title('DBSCAN Clustering Visualization')\n",
        "    plt.xlabel('Fitur 1 (Scaled)')\n",
        "    plt.ylabel('Fitur 2 (Scaled)')\n",
        "    plt.colorbar(label='Cluster')\n",
        "    plt.grid()\n",
        "    plt.show()\n",
        "else:\n",
        "    print(\"Visualisasi tidak didukung karena jumlah fitur lebih dari 2.\")\n",
        "\n",
        "# Menampilkan hasil clustering\n",
        "print(\"\\nHasil Clustering:\")\n",
        "print(data.head())\n",
        "\n",
        "# Analisis lebih lanjut dapat dilakukan berdasarkan nilai cluster\n",
        "# Contoh: menghitung jumlah data point dalam setiap cluster\n",
        "cluster_counts = data['Cluster'].value_counts()\n",
        "print(\"\\nJumlah data point dalam setiap cluster:\")\n",
        "print(cluster_counts)\n",
        "\n",
        "# Menampilkan cluster dengan outlier (jika ada)\n",
        "if -1 in cluster_counts.index:  # DBSCAN memberikan label -1 untuk outlier\n",
        "    print(f\"\\nJumlah outlier: {cluster_counts[-1]}\")\n",
        "else:\n",
        "    print(\"\\nTidak ada outlier yang terdeteksi.\")\n"
      ],
      "metadata": {
        "colab": {
          "base_uri": "https://localhost:8080/"
        },
        "id": "M_QIq8iCIYIh",
        "outputId": "5bcc2143-ccb7-4a76-90cc-7c378df8d9f7"
      },
      "execution_count": 81,
      "outputs": [
        {
          "output_type": "stream",
          "name": "stdout",
          "text": [
            "Visualisasi tidak didukung karena jumlah fitur lebih dari 2.\n",
            "\n",
            "Hasil Clustering:\n",
            "             Timestamp       Nama Lengkap         NIM Jenis Kelamin    Usia  \\\n",
            "0  30/12/2024 12:25:41       Bayu Maulana   240401068       Laki-Laki    19   \n",
            "1  30/12/2024 12:26:02    Fajar Fadillah   2400401109       Laki-Laki    18   \n",
            "2  30/12/2024 12:26:21  Joni Eka Saputra    220401005       Laki-Laki    21   \n",
            "3  30/12/2024 12:27:03     Nabil munadhil   240401025       Laki-Laki    18   \n",
            "4  30/12/2024 12:27:49     EVI EKA AZHARI   220401247       Perempuan    21   \n",
            "\n",
            "  Asal Sekolah             Nama Sekolah         Alamat Sekolah  \\\n",
            "0          SMK              SMK HASANAH           jl cempedak    \n",
            "1          SMK        SMKN 2 PEKANBARU            Jl.pattimura   \n",
            "2          SMA       SMAN 11 Pekanbaru               jl.segar    \n",
            "3           MA           MAN 1 KUANSING  Kab. kuantan singingi   \n",
            "4          SMA  SMA Negeri 11 Pekanbaru   Jl. Segar, Hangtuah.   \n",
            "\n",
            "       Jurusan Sekolah               Alamat Domisili    Kota tempat tinggal  \\\n",
            "0                    RPL                 Jl Bukit Pasir          Pekanbaru    \n",
            "1  Elektronika industri                  Jl Tengku Bey           Pekanbaru    \n",
            "2                    IPA                jl bakau ujung           Pekanbaru    \n",
            "3                    IPS                jl. kubang raya       taluk kuantan   \n",
            "4                    IPA  Jl. Bata Merah, Bencah Lesung           Pekanbaru   \n",
            "\n",
            "                Jalur Pilihan Alasan Memilih Teknik Informatika UMRI  \\\n",
            "0             Reguler (J-Reg)                             Teknologi    \n",
            "1         Muhammadiyah (J-Mu)         Ingin mendalami ilmu komputer    \n",
            "2             Reguler (J-Reg)                karna pengennya di situ   \n",
            "3         Muhammadiyah (J-Mu)           ingin menguasai di bidang IT   \n",
            "4  Jalur Bakat dan Organisasi             Lowongan pekerjaannya luas   \n",
            "\n",
            "  Sumber Informasi Tentang Teknik Informatika UMRI  \\\n",
            "0                                            Teman   \n",
            "1                                            Teman   \n",
            "2                                 Tim Promosi UMRI   \n",
            "3                                          Website   \n",
            "4                              Orang Tua / Kerabat   \n",
            "\n",
            "  Kejuruan Teknik Informatika yang diminati  \\\n",
            "0                         Software Engineer   \n",
            "1                         Software Engineer   \n",
            "2                         Software Engineer   \n",
            "3                         Software Engineer   \n",
            "4                   Artificial Intelligence   \n",
            "\n",
            "      Platform Media Sosial yang sering digunakan  \\\n",
            "0                                       Instagram   \n",
            "1                     Tiktok, Instagram, Whatsapp   \n",
            "2  Tiktok, Facebook, Instagram, Youtube, Whatsapp   \n",
            "3                                       Instagram   \n",
            "4            Tiktok, Instagram, Youtube, Whatsapp   \n",
            "\n",
            "  Saran dan Masukan tentang Promosi Calon Mahasiswa baru Program Studi Teknik Informatika  \\\n",
            "0                                       jangan botak                                        \n",
            "1                                 Kuliah yang pintar                                        \n",
            "2                                 lebih kreatif aja                                         \n",
            "3  lebih kreatif lagi biar peminatnya semakin banyak                                        \n",
            "4  Langsung datang ke sekolah-sekolah untuk promo...                                        \n",
            "\n",
            "   Cluster  \n",
            "0        0  \n",
            "1        1  \n",
            "2        2  \n",
            "3       -1  \n",
            "4        2  \n",
            "\n",
            "Jumlah data point dalam setiap cluster:\n",
            "Cluster\n",
            "-1    23\n",
            " 0    17\n",
            " 5    15\n",
            " 3    14\n",
            " 6    13\n",
            " 7    10\n",
            " 1     8\n",
            " 2     5\n",
            " 4     5\n",
            "Name: count, dtype: int64\n",
            "\n",
            "Jumlah outlier: 23\n"
          ]
        }
      ]
    },
    {
      "cell_type": "markdown",
      "source": [
        "## **7. Visualisasi dan Analisis Lebih Lanjut**"
      ],
      "metadata": {
        "id": "TTC7L3QJL7q7"
      }
    },
    {
      "cell_type": "code",
      "source": [
        "# Visualisasi (jika data 2D atau 3D)\n",
        "if len(data_scaled.columns) == 2:\n",
        "    plt.figure(figsize=(8, 6))\n",
        "    plt.scatter(data_scaled.iloc[:, 0], data_scaled.iloc[:, 1], c=best_clusters, cmap='viridis')\n",
        "    plt.title('DBSCAN Clustering')\n",
        "    plt.xlabel('Fitur 1 (Scaled)')\n",
        "    plt.ylabel('Fitur 2 (Scaled)')\n",
        "    plt.show()\n",
        "elif len(data_scaled.columns) == 3:\n",
        "    from mpl_toolkits.mplot3d import Axes3D\n",
        "    fig = plt.figure(figsize=(10,8))\n",
        "    ax = fig.add_subplot(111, projection='3d')\n",
        "    ax.scatter(data_scaled.iloc[:, 0], data_scaled.iloc[:, 1], data_scaled.iloc[:, 2], c=best_clusters, cmap='viridis')\n",
        "    ax.set_title('DBSCAN Clustering (3D)')\n",
        "    ax.set_xlabel('Fitur 1 (Scaled)')\n",
        "    ax.set_ylabel('Fitur 2 (Scaled)')\n",
        "    ax.set_zlabel('Fitur 3 (Scaled)')\n",
        "    plt.show()\n",
        "else:\n",
        "    print(\"Visualisasi scatter plot hanya didukung untuk data 2D atau 3D.\")\n",
        "\n",
        "\n",
        "# Analisis distribusi cluster\n",
        "cluster_counts = data['Cluster'].value_counts()\n",
        "print(\"\\nDistribusi Cluster:\")\n",
        "print(cluster_counts)\n",
        "\n",
        "# Analisis karakteristik setiap cluster (contoh: mean dari fitur 'Usia' untuk setiap cluster)\n",
        "for cluster_label in cluster_counts.index:\n",
        "    cluster_data = data[data['Cluster'] == cluster_label]\n",
        "    mean_usia = cluster_data['Usia'].mean()\n",
        "    print(f\"\\nCluster {cluster_label}:\")\n",
        "    print(f\"  Rata-rata Usia: {mean_usia}\")"
      ],
      "metadata": {
        "colab": {
          "base_uri": "https://localhost:8080/"
        },
        "id": "4QaXxKvT09F0",
        "outputId": "9b5960d1-bc02-47f4-ba7f-8f455a68f6ca"
      },
      "execution_count": 83,
      "outputs": [
        {
          "output_type": "stream",
          "name": "stdout",
          "text": [
            "Visualisasi scatter plot hanya didukung untuk data 2D atau 3D.\n",
            "\n",
            "Distribusi Cluster:\n",
            "Cluster\n",
            "-1    23\n",
            " 0    17\n",
            " 5    15\n",
            " 3    14\n",
            " 6    13\n",
            " 7    10\n",
            " 1     8\n",
            " 2     5\n",
            " 4     5\n",
            "Name: count, dtype: int64\n",
            "\n",
            "Cluster -1:\n",
            "  Rata-rata Usia: 19.91304347826087\n",
            "\n",
            "Cluster 0:\n",
            "  Rata-rata Usia: 19.0\n",
            "\n",
            "Cluster 5:\n",
            "  Rata-rata Usia: 20.0\n",
            "\n",
            "Cluster 3:\n",
            "  Rata-rata Usia: 19.0\n",
            "\n",
            "Cluster 6:\n",
            "  Rata-rata Usia: 20.0\n",
            "\n",
            "Cluster 7:\n",
            "  Rata-rata Usia: 21.0\n",
            "\n",
            "Cluster 1:\n",
            "  Rata-rata Usia: 18.0\n",
            "\n",
            "Cluster 2:\n",
            "  Rata-rata Usia: 21.0\n",
            "\n",
            "Cluster 4:\n",
            "  Rata-rata Usia: 22.0\n"
          ]
        }
      ]
    },
    {
      "cell_type": "markdown",
      "source": [
        "## **8. Evaluasi Silhouette Score**\n",
        "\n",
        "Interpretasi Silhouette Score:\n",
        "\n",
        "Silhouette Score > 0.5: Cluster yang dihasilkan memiliki kualitas yang baik.\n",
        "0.25 < Silhouette Score <= 0.5: Cluster yang dihasilkan memiliki kualitas yang cukup baik.\n",
        "Silhouette Score <= 0.25: Kualitas cluster perlu ditingkatkan. Anda mungkin perlu mencoba mengubah parameter algoritma DBSCAN (misalnya, eps dan min_samples) atau menggunakan metode clustering yang berbeda."
      ],
      "metadata": {
        "id": "DdjvoA8UM1SP"
      }
    },
    {
      "cell_type": "code",
      "source": [
        "# Evaluasi kualitas cluster (Silhouette Score sudah dihitung sebelumnya)\n",
        "print(f\"\\nSilhouette Score terbaik: {best_silhouette_score}\")\n",
        "if best_silhouette_score > 0.5:\n",
        "    print(\"Kualitas cluster baik.\")\n",
        "elif best_silhouette_score > 0.25:\n",
        "    print(\"Kualitas cluster cukup baik.\")\n",
        "else:\n",
        "    print(\"Kualitas cluster perlu ditingkatkan. Pertimbangkan parameter DBSCAN atau metode clustering lain.\")"
      ],
      "metadata": {
        "colab": {
          "base_uri": "https://localhost:8080/"
        },
        "id": "-endtNq4MRhZ",
        "outputId": "35c67c08-22f9-4468-da69-bfe8d932b560"
      },
      "execution_count": 84,
      "outputs": [
        {
          "output_type": "stream",
          "name": "stdout",
          "text": [
            "\n",
            "Silhouette Score terbaik: 0.6888213950760451\n",
            "Kualitas cluster baik.\n"
          ]
        }
      ]
    },
    {
      "cell_type": "markdown",
      "source": [
        "## **9. Evaluasi Davies-Bouldin Index**\n",
        "\n",
        "Tahapan ini bertujuan untuk mengevaluasi kualitas cluster menggunakan metrik Davies-Bouldin Index (DBI). DBI adalah metrik internal yang mengukur rata-rata kesamaan antar cluster dibandingkan dengan kesamaan dalam cluster. Semakin rendah nilai DBI, semakin baik kualitas cluster."
      ],
      "metadata": {
        "id": "uEVsdYzXNZeK"
      }
    },
    {
      "cell_type": "code",
      "source": [
        "# Evaluasi Davies-Bouldin Index\n",
        "if len(set(best_clusters)) > 1:  # Pastikan ada lebih dari satu cluster\n",
        "    davies_bouldin = davies_bouldin_score(data_scaled, best_clusters)\n",
        "    print(f\"Davies-Bouldin Index: {davies_bouldin}\")\n",
        "    if davies_bouldin < 1:\n",
        "        print(\"Cluster memiliki kualitas yang baik (DB Index mendekati 0).\")\n",
        "    else:\n",
        "        print(\"Cluster memiliki kualitas yang perlu ditingkatkan (DB Index besar).\")\n",
        "else:\n",
        "    print(\"Davies-Bouldin Index tidak dapat dihitung karena hanya ada satu cluster.\")"
      ],
      "metadata": {
        "colab": {
          "base_uri": "https://localhost:8080/"
        },
        "id": "5zRC9yjIMXTx",
        "outputId": "623f05a0-f60e-49e0-df6a-81fd9955fed0"
      },
      "execution_count": 87,
      "outputs": [
        {
          "output_type": "stream",
          "name": "stdout",
          "text": [
            "Davies-Bouldin Index: 1.3884183942534654\n",
            "Cluster memiliki kualitas yang perlu ditingkatkan (DB Index besar).\n"
          ]
        }
      ]
    },
    {
      "cell_type": "markdown",
      "source": [
        "## **10. Evaluasi Elbow Method**\n",
        "\n",
        "Tahapan ini menerapkan Elbow Method untuk membantu menentukan jumlah cluster optimal dalam algoritma K-Means. Meskipun pada penelitian ini menggunakan DBSCAN, Elbow Method lebih umum digunakan untuk K-Means karena  DBSCAN tidak memerlukan penentuan jumlah cluster secara eksplisit.\n",
        "\n",
        "Interpretasi Elbow Method:\n",
        "\n",
        "Plot Elbow Method akan menunjukkan kurva yang menurun. Titik \"elbow\" (siku) pada kurva, di mana penurunan SSE mulai melambat,  mengindikasikan jumlah cluster optimal.  Pada titik ini,  menambahkan lebih banyak cluster tidak akan significantly mengurangi SSE.\n",
        "\n",
        "Meskipun Elbow Method dapat memberikan petunjuk tentang jumlah cluster yang optimal,  interpretasinya terkadang subjektif. Anda mungkin perlu  mempertimbangkan faktor lain, seperti  konteks data dan tujuan analisis,  dalam menentukan jumlah cluster yang tepat."
      ],
      "metadata": {
        "id": "3xqs7Qo-Nr-I"
      }
    },
    {
      "cell_type": "code",
      "source": [
        "# Elbow Method\n",
        "from sklearn.cluster import KMeans\n",
        "\n",
        "# Menggunakan KMeans untuk Elbow Method\n",
        "sse = []  # Sum of Squared Errors\n",
        "k_range = range(1, 11)  # Coba beberapa nilai k\n",
        "\n",
        "for k in k_range:\n",
        "    kmeans = KMeans(n_clusters=k, random_state=42)\n",
        "    kmeans.fit(data_scaled)\n",
        "    sse.append(kmeans.inertia_)\n",
        "\n",
        "# Visualisasi Elbow Method\n",
        "plt.figure(figsize=(8, 6))\n",
        "plt.plot(k_range, sse, marker='o')\n",
        "plt.title('Elbow Method')\n",
        "plt.xlabel('Jumlah Cluster (k)')\n",
        "plt.ylabel('Sum of Squared Errors (SSE)')\n",
        "plt.xticks(k_range)\n",
        "plt.grid()\n",
        "plt.show()\n",
        "\n",
        "print(\"\\nDari grafik Elbow Method, pilih jumlah cluster (k) di mana kurva mulai mendatar untuk hasil optimal.\")"
      ],
      "metadata": {
        "colab": {
          "base_uri": "https://localhost:8080/",
          "height": 600
        },
        "id": "qUW0RrRVMa2R",
        "outputId": "61835c78-9319-4922-9679-4558eb8715e1"
      },
      "execution_count": 89,
      "outputs": [
        {
          "output_type": "display_data",
          "data": {
            "text/plain": [
              "<Figure size 800x600 with 1 Axes>"
            ],
            "image/png": "[encoded data removed]"
          },
          "metadata": {}
        },
        {
          "output_type": "stream",
          "name": "stdout",
          "text": [
            "\n",
            "Dari grafik Elbow Method, pilih jumlah cluster (k) di mana kurva mulai mendatar untuk hasil optimal.\n"
          ]
        }
      ]
    }
  ]
}